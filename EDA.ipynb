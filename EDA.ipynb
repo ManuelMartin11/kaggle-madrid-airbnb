{
 "cells": [
  {
   "cell_type": "code",
   "execution_count": 17,
   "metadata": {},
   "outputs": [],
   "source": [
    "import os\n",
    "import pandas as pd\n",
    "import numpy as np"
   ]
  },
  {
   "cell_type": "markdown",
   "metadata": {},
   "source": [
    "## <b> 1. Explore data </b>\n",
    "Analyze the data provided and check what kind of features do we have available"
   ]
  },
  {
   "cell_type": "code",
   "execution_count": 18,
   "metadata": {},
   "outputs": [
    {
     "name": "stderr",
     "output_type": "stream",
     "text": [
      "c:\\users\\manuelmartin\\appdata\\local\\programs\\python\\python36\\lib\\site-packages\\IPython\\core\\interactiveshell.py:3020: DtypeWarning: Columns (43,61,62) have mixed types. Specify dtype option on import or set low_memory=False.\n",
      "  interactivity=interactivity, compiler=compiler, result=result)\n"
     ]
    }
   ],
   "source": [
    "data = r\"data\"\n",
    "calendar = os.path.join(data, \"calendar.csv\")\n",
    "listings = os.path.join(data, \"listings.csv\")\n",
    "reviews = os.path.join(data, \"reviews.csv\")\n",
    "\n",
    "caldf = pd.read_csv(calendar)\n",
    "listdf = pd.read_csv(listings)\n",
    "revdf = pd.read_csv(reviews)"
   ]
  },
  {
   "cell_type": "markdown",
   "metadata": {},
   "source": [
    "##### Description of each source file\n",
    "All files have been compiled on 8th of March, 2019\n",
    "- calendar.csv: Detailed calendar data for listings in Madrid\n",
    "- listings.csv: Detailed listings data for Madrid\n",
    "- reviews.csv: Detailed review data for listings in Madrid\n"
   ]
  },
  {
   "cell_type": "code",
   "execution_count": 19,
   "metadata": {},
   "outputs": [
    {
     "data": {
      "text/html": [
       "<div>\n",
       "<style scoped>\n",
       "    .dataframe tbody tr th:only-of-type {\n",
       "        vertical-align: middle;\n",
       "    }\n",
       "\n",
       "    .dataframe tbody tr th {\n",
       "        vertical-align: top;\n",
       "    }\n",
       "\n",
       "    .dataframe thead th {\n",
       "        text-align: right;\n",
       "    }\n",
       "</style>\n",
       "<table border=\"1\" class=\"dataframe\">\n",
       "  <thead>\n",
       "    <tr style=\"text-align: right;\">\n",
       "      <th></th>\n",
       "      <th>listing_id</th>\n",
       "      <th>date</th>\n",
       "      <th>available</th>\n",
       "      <th>price</th>\n",
       "      <th>adjusted_price</th>\n",
       "      <th>minimum_nights</th>\n",
       "      <th>maximum_nights</th>\n",
       "    </tr>\n",
       "  </thead>\n",
       "  <tbody>\n",
       "    <tr>\n",
       "      <th>0</th>\n",
       "      <td>6369</td>\n",
       "      <td>2019-03-08</td>\n",
       "      <td>f</td>\n",
       "      <td>$50.00</td>\n",
       "      <td>$50.00</td>\n",
       "      <td>3</td>\n",
       "      <td>30</td>\n",
       "    </tr>\n",
       "    <tr>\n",
       "      <th>1</th>\n",
       "      <td>283862</td>\n",
       "      <td>2019-03-08</td>\n",
       "      <td>f</td>\n",
       "      <td>$150.00</td>\n",
       "      <td>$150.00</td>\n",
       "      <td>1</td>\n",
       "      <td>1125</td>\n",
       "    </tr>\n",
       "    <tr>\n",
       "      <th>2</th>\n",
       "      <td>283862</td>\n",
       "      <td>2019-03-09</td>\n",
       "      <td>f</td>\n",
       "      <td>$85.00</td>\n",
       "      <td>$85.00</td>\n",
       "      <td>1</td>\n",
       "      <td>1125</td>\n",
       "    </tr>\n",
       "    <tr>\n",
       "      <th>3</th>\n",
       "      <td>283862</td>\n",
       "      <td>2019-03-10</td>\n",
       "      <td>f</td>\n",
       "      <td>$70.00</td>\n",
       "      <td>$70.00</td>\n",
       "      <td>1</td>\n",
       "      <td>1125</td>\n",
       "    </tr>\n",
       "    <tr>\n",
       "      <th>4</th>\n",
       "      <td>283862</td>\n",
       "      <td>2019-03-11</td>\n",
       "      <td>t</td>\n",
       "      <td>$50.00</td>\n",
       "      <td>$50.00</td>\n",
       "      <td>1</td>\n",
       "      <td>1125</td>\n",
       "    </tr>\n",
       "  </tbody>\n",
       "</table>\n",
       "</div>"
      ],
      "text/plain": [
       "   listing_id        date available    price adjusted_price  minimum_nights  \\\n",
       "0        6369  2019-03-08         f   $50.00         $50.00               3   \n",
       "1      283862  2019-03-08         f  $150.00        $150.00               1   \n",
       "2      283862  2019-03-09         f   $85.00         $85.00               1   \n",
       "3      283862  2019-03-10         f   $70.00         $70.00               1   \n",
       "4      283862  2019-03-11         t   $50.00         $50.00               1   \n",
       "\n",
       "   maximum_nights  \n",
       "0              30  \n",
       "1            1125  \n",
       "2            1125  \n",
       "3            1125  \n",
       "4            1125  "
      ]
     },
     "execution_count": 19,
     "metadata": {},
     "output_type": "execute_result"
    }
   ],
   "source": [
    "caldf.head(5)"
   ]
  },
  {
   "cell_type": "code",
   "execution_count": 20,
   "metadata": {},
   "outputs": [
    {
     "name": "stdout",
     "output_type": "stream",
     "text": [
      "<class 'pandas.core.frame.DataFrame'>\n",
      "RangeIndex: 6444440 entries, 0 to 6444439\n",
      "Data columns (total 7 columns):\n",
      "listing_id        int64\n",
      "date              object\n",
      "available         object\n",
      "price             object\n",
      "adjusted_price    object\n",
      "minimum_nights    int64\n",
      "maximum_nights    int64\n",
      "dtypes: int64(3), object(4)\n",
      "memory usage: 344.2+ MB\n"
     ]
    }
   ],
   "source": [
    "caldf.info(verbose=True)"
   ]
  },
  {
   "cell_type": "code",
   "execution_count": 21,
   "metadata": {},
   "outputs": [
    {
     "data": {
      "text/html": [
       "<div>\n",
       "<style scoped>\n",
       "    .dataframe tbody tr th:only-of-type {\n",
       "        vertical-align: middle;\n",
       "    }\n",
       "\n",
       "    .dataframe tbody tr th {\n",
       "        vertical-align: top;\n",
       "    }\n",
       "\n",
       "    .dataframe thead th {\n",
       "        text-align: right;\n",
       "    }\n",
       "</style>\n",
       "<table border=\"1\" class=\"dataframe\">\n",
       "  <thead>\n",
       "    <tr style=\"text-align: right;\">\n",
       "      <th></th>\n",
       "      <th>listing_id</th>\n",
       "      <th>id</th>\n",
       "      <th>date</th>\n",
       "      <th>reviewer_id</th>\n",
       "      <th>reviewer_name</th>\n",
       "      <th>comments</th>\n",
       "    </tr>\n",
       "  </thead>\n",
       "  <tbody>\n",
       "    <tr>\n",
       "      <th>0</th>\n",
       "      <td>6369</td>\n",
       "      <td>29428</td>\n",
       "      <td>2010-03-14</td>\n",
       "      <td>84790</td>\n",
       "      <td>Nancy</td>\n",
       "      <td>Simon and Arturo have the ultimate location in...</td>\n",
       "    </tr>\n",
       "    <tr>\n",
       "      <th>1</th>\n",
       "      <td>6369</td>\n",
       "      <td>31018</td>\n",
       "      <td>2010-03-23</td>\n",
       "      <td>84338</td>\n",
       "      <td>David</td>\n",
       "      <td>Myself and Kristy originally planned on stayin...</td>\n",
       "    </tr>\n",
       "    <tr>\n",
       "      <th>2</th>\n",
       "      <td>6369</td>\n",
       "      <td>34694</td>\n",
       "      <td>2010-04-10</td>\n",
       "      <td>98655</td>\n",
       "      <td>Marion</td>\n",
       "      <td>We had a great time at Arturo and Simon's ! A ...</td>\n",
       "    </tr>\n",
       "  </tbody>\n",
       "</table>\n",
       "</div>"
      ],
      "text/plain": [
       "   listing_id     id        date  reviewer_id reviewer_name  \\\n",
       "0        6369  29428  2010-03-14        84790         Nancy   \n",
       "1        6369  31018  2010-03-23        84338         David   \n",
       "2        6369  34694  2010-04-10        98655        Marion   \n",
       "\n",
       "                                            comments  \n",
       "0  Simon and Arturo have the ultimate location in...  \n",
       "1  Myself and Kristy originally planned on stayin...  \n",
       "2  We had a great time at Arturo and Simon's ! A ...  "
      ]
     },
     "execution_count": 21,
     "metadata": {},
     "output_type": "execute_result"
    }
   ],
   "source": [
    "revdf.head(3)"
   ]
  },
  {
   "cell_type": "code",
   "execution_count": null,
   "metadata": {},
   "outputs": [],
   "source": []
  }
 ],
 "metadata": {
  "kernelspec": {
   "display_name": "Python 3",
   "language": "python",
   "name": "python3"
  },
  "language_info": {
   "codemirror_mode": {
    "name": "ipython",
    "version": 3
   },
   "file_extension": ".py",
   "mimetype": "text/x-python",
   "name": "python",
   "nbconvert_exporter": "python",
   "pygments_lexer": "ipython3",
   "version": "3.6.7"
  }
 },
 "nbformat": 4,
 "nbformat_minor": 2
}
